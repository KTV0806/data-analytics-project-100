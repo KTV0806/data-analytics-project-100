{
 "cells": [
  {
   "cell_type": "markdown",
   "id": "e38df962-b18d-40f9-a2cc-b6e3c1c12cf8",
   "metadata": {},
   "source": [
    "**Проект 3 \"Дашборд конверсий\"**"
   ]
  },
  {
   "cell_type": "markdown",
   "id": "591d6262-840a-4d72-be62-340493f61d7b",
   "metadata": {},
   "source": [
    "**Шаг 1-3**"
   ]
  },
  {
   "cell_type": "markdown",
   "id": "10344a83-97e4-4ff0-8c2a-726e82fead33",
   "metadata": {},
   "source": [
    "Задачи:\n",
    "1. Сделать запросы по API и получить данные по визитам и регистрациям.\n",
    "2. Взять последний визит у посетителя.\n",
    "3. Избавиться от ботов в таблице с визитами.\n",
    "4. Объединить таблицы визитов и регистраций."
   ]
  },
  {
   "cell_type": "code",
   "execution_count": 5,
   "id": "43256a68-e09a-47ed-84eb-aa94c24a2f08",
   "metadata": {},
   "outputs": [],
   "source": [
    "# импортируем библиотеки\n",
    "import os\n",
    "from dotenv import load_dotenv\n",
    "import requests\n",
    "import pandas as pd\n",
    "import matplotlib.pyplot as plt"
   ]
  },
  {
   "cell_type": "code",
   "execution_count": 6,
   "id": "76022d84-1408-4f06-aadc-f70610d7978b",
   "metadata": {},
   "outputs": [
    {
     "name": "stdout",
     "output_type": "stream",
     "text": [
      "None None None\n"
     ]
    }
   ],
   "source": [
    "# Загрузка переменных из окружения\n",
    "load_dotenv()\n",
    "\n",
    "DATE_BEGIN = os.getenv('DATE_BEGIN')\n",
    "DATE_END = os.getenv('DATE_END')\n",
    "API_URL = os.getenv('API_URL')\n",
    "\n",
    "print(DATE_BEGIN, DATE_END, API_URL)"
   ]
  },
  {
   "cell_type": "code",
   "execution_count": 7,
   "id": "eef57644-9534-4384-a7e2-f68d1bae1775",
   "metadata": {},
   "outputs": [
    {
     "ename": "MissingSchema",
     "evalue": "Invalid URL 'None/visits?begin=2023-03-01&end=2023-09-01': No scheme supplied. Perhaps you meant https://None/visits?begin=2023-03-01&end=2023-09-01?",
     "output_type": "error",
     "traceback": [
      "\u001b[1;31m---------------------------------------------------------------------------\u001b[0m",
      "\u001b[1;31mMissingSchema\u001b[0m                             Traceback (most recent call last)",
      "Cell \u001b[1;32mIn[7], line 2\u001b[0m\n\u001b[0;32m      1\u001b[0m \u001b[38;5;66;03m# получаем данные визитов и регистраций по API\u001b[39;00m\n\u001b[1;32m----> 2\u001b[0m visits \u001b[38;5;241m=\u001b[39m requests\u001b[38;5;241m.\u001b[39mget(\u001b[38;5;124mf\u001b[39m\u001b[38;5;124m'\u001b[39m\u001b[38;5;132;01m{\u001b[39;00mAPI_URL\u001b[38;5;132;01m}\u001b[39;00m\u001b[38;5;124m/visits?begin=2023-03-01&end=2023-09-01\u001b[39m\u001b[38;5;124m'\u001b[39m)\n\u001b[0;32m      4\u001b[0m visits_json \u001b[38;5;241m=\u001b[39m visits\u001b[38;5;241m.\u001b[39mjson()\n\u001b[0;32m      6\u001b[0m regs \u001b[38;5;241m=\u001b[39m requests\u001b[38;5;241m.\u001b[39mget(\u001b[38;5;124mf\u001b[39m\u001b[38;5;124m'\u001b[39m\u001b[38;5;132;01m{\u001b[39;00mAPI_URL\u001b[38;5;132;01m}\u001b[39;00m\u001b[38;5;124m/registrations?begin=2023-03-01&end=2023-09-01\u001b[39m\u001b[38;5;124m'\u001b[39m)\n",
      "File \u001b[1;32m~\\anaconda3\\Lib\\site-packages\\requests\\api.py:73\u001b[0m, in \u001b[0;36mget\u001b[1;34m(url, params, **kwargs)\u001b[0m\n\u001b[0;32m     62\u001b[0m \u001b[38;5;28;01mdef\u001b[39;00m \u001b[38;5;21mget\u001b[39m(url, params\u001b[38;5;241m=\u001b[39m\u001b[38;5;28;01mNone\u001b[39;00m, \u001b[38;5;241m*\u001b[39m\u001b[38;5;241m*\u001b[39mkwargs):\n\u001b[0;32m     63\u001b[0m \u001b[38;5;250m    \u001b[39m\u001b[38;5;124mr\u001b[39m\u001b[38;5;124;03m\"\"\"Sends a GET request.\u001b[39;00m\n\u001b[0;32m     64\u001b[0m \n\u001b[0;32m     65\u001b[0m \u001b[38;5;124;03m    :param url: URL for the new :class:`Request` object.\u001b[39;00m\n\u001b[1;32m   (...)\u001b[0m\n\u001b[0;32m     70\u001b[0m \u001b[38;5;124;03m    :rtype: requests.Response\u001b[39;00m\n\u001b[0;32m     71\u001b[0m \u001b[38;5;124;03m    \"\"\"\u001b[39;00m\n\u001b[1;32m---> 73\u001b[0m     \u001b[38;5;28;01mreturn\u001b[39;00m request(\u001b[38;5;124m\"\u001b[39m\u001b[38;5;124mget\u001b[39m\u001b[38;5;124m\"\u001b[39m, url, params\u001b[38;5;241m=\u001b[39mparams, \u001b[38;5;241m*\u001b[39m\u001b[38;5;241m*\u001b[39mkwargs)\n",
      "File \u001b[1;32m~\\anaconda3\\Lib\\site-packages\\requests\\api.py:59\u001b[0m, in \u001b[0;36mrequest\u001b[1;34m(method, url, **kwargs)\u001b[0m\n\u001b[0;32m     55\u001b[0m \u001b[38;5;66;03m# By using the 'with' statement we are sure the session is closed, thus we\u001b[39;00m\n\u001b[0;32m     56\u001b[0m \u001b[38;5;66;03m# avoid leaving sockets open which can trigger a ResourceWarning in some\u001b[39;00m\n\u001b[0;32m     57\u001b[0m \u001b[38;5;66;03m# cases, and look like a memory leak in others.\u001b[39;00m\n\u001b[0;32m     58\u001b[0m \u001b[38;5;28;01mwith\u001b[39;00m sessions\u001b[38;5;241m.\u001b[39mSession() \u001b[38;5;28;01mas\u001b[39;00m session:\n\u001b[1;32m---> 59\u001b[0m     \u001b[38;5;28;01mreturn\u001b[39;00m session\u001b[38;5;241m.\u001b[39mrequest(method\u001b[38;5;241m=\u001b[39mmethod, url\u001b[38;5;241m=\u001b[39murl, \u001b[38;5;241m*\u001b[39m\u001b[38;5;241m*\u001b[39mkwargs)\n",
      "File \u001b[1;32m~\\anaconda3\\Lib\\site-packages\\requests\\sessions.py:575\u001b[0m, in \u001b[0;36mSession.request\u001b[1;34m(self, method, url, params, data, headers, cookies, files, auth, timeout, allow_redirects, proxies, hooks, stream, verify, cert, json)\u001b[0m\n\u001b[0;32m    562\u001b[0m \u001b[38;5;66;03m# Create the Request.\u001b[39;00m\n\u001b[0;32m    563\u001b[0m req \u001b[38;5;241m=\u001b[39m Request(\n\u001b[0;32m    564\u001b[0m     method\u001b[38;5;241m=\u001b[39mmethod\u001b[38;5;241m.\u001b[39mupper(),\n\u001b[0;32m    565\u001b[0m     url\u001b[38;5;241m=\u001b[39murl,\n\u001b[1;32m   (...)\u001b[0m\n\u001b[0;32m    573\u001b[0m     hooks\u001b[38;5;241m=\u001b[39mhooks,\n\u001b[0;32m    574\u001b[0m )\n\u001b[1;32m--> 575\u001b[0m prep \u001b[38;5;241m=\u001b[39m \u001b[38;5;28mself\u001b[39m\u001b[38;5;241m.\u001b[39mprepare_request(req)\n\u001b[0;32m    577\u001b[0m proxies \u001b[38;5;241m=\u001b[39m proxies \u001b[38;5;129;01mor\u001b[39;00m {}\n\u001b[0;32m    579\u001b[0m settings \u001b[38;5;241m=\u001b[39m \u001b[38;5;28mself\u001b[39m\u001b[38;5;241m.\u001b[39mmerge_environment_settings(\n\u001b[0;32m    580\u001b[0m     prep\u001b[38;5;241m.\u001b[39murl, proxies, stream, verify, cert\n\u001b[0;32m    581\u001b[0m )\n",
      "File \u001b[1;32m~\\anaconda3\\Lib\\site-packages\\requests\\sessions.py:484\u001b[0m, in \u001b[0;36mSession.prepare_request\u001b[1;34m(self, request)\u001b[0m\n\u001b[0;32m    481\u001b[0m     auth \u001b[38;5;241m=\u001b[39m get_netrc_auth(request\u001b[38;5;241m.\u001b[39murl)\n\u001b[0;32m    483\u001b[0m p \u001b[38;5;241m=\u001b[39m PreparedRequest()\n\u001b[1;32m--> 484\u001b[0m p\u001b[38;5;241m.\u001b[39mprepare(\n\u001b[0;32m    485\u001b[0m     method\u001b[38;5;241m=\u001b[39mrequest\u001b[38;5;241m.\u001b[39mmethod\u001b[38;5;241m.\u001b[39mupper(),\n\u001b[0;32m    486\u001b[0m     url\u001b[38;5;241m=\u001b[39mrequest\u001b[38;5;241m.\u001b[39murl,\n\u001b[0;32m    487\u001b[0m     files\u001b[38;5;241m=\u001b[39mrequest\u001b[38;5;241m.\u001b[39mfiles,\n\u001b[0;32m    488\u001b[0m     data\u001b[38;5;241m=\u001b[39mrequest\u001b[38;5;241m.\u001b[39mdata,\n\u001b[0;32m    489\u001b[0m     json\u001b[38;5;241m=\u001b[39mrequest\u001b[38;5;241m.\u001b[39mjson,\n\u001b[0;32m    490\u001b[0m     headers\u001b[38;5;241m=\u001b[39mmerge_setting(\n\u001b[0;32m    491\u001b[0m         request\u001b[38;5;241m.\u001b[39mheaders, \u001b[38;5;28mself\u001b[39m\u001b[38;5;241m.\u001b[39mheaders, dict_class\u001b[38;5;241m=\u001b[39mCaseInsensitiveDict\n\u001b[0;32m    492\u001b[0m     ),\n\u001b[0;32m    493\u001b[0m     params\u001b[38;5;241m=\u001b[39mmerge_setting(request\u001b[38;5;241m.\u001b[39mparams, \u001b[38;5;28mself\u001b[39m\u001b[38;5;241m.\u001b[39mparams),\n\u001b[0;32m    494\u001b[0m     auth\u001b[38;5;241m=\u001b[39mmerge_setting(auth, \u001b[38;5;28mself\u001b[39m\u001b[38;5;241m.\u001b[39mauth),\n\u001b[0;32m    495\u001b[0m     cookies\u001b[38;5;241m=\u001b[39mmerged_cookies,\n\u001b[0;32m    496\u001b[0m     hooks\u001b[38;5;241m=\u001b[39mmerge_hooks(request\u001b[38;5;241m.\u001b[39mhooks, \u001b[38;5;28mself\u001b[39m\u001b[38;5;241m.\u001b[39mhooks),\n\u001b[0;32m    497\u001b[0m )\n\u001b[0;32m    498\u001b[0m \u001b[38;5;28;01mreturn\u001b[39;00m p\n",
      "File \u001b[1;32m~\\anaconda3\\Lib\\site-packages\\requests\\models.py:367\u001b[0m, in \u001b[0;36mPreparedRequest.prepare\u001b[1;34m(self, method, url, headers, files, data, params, auth, cookies, hooks, json)\u001b[0m\n\u001b[0;32m    364\u001b[0m \u001b[38;5;250m\u001b[39m\u001b[38;5;124;03m\"\"\"Prepares the entire request with the given parameters.\"\"\"\u001b[39;00m\n\u001b[0;32m    366\u001b[0m \u001b[38;5;28mself\u001b[39m\u001b[38;5;241m.\u001b[39mprepare_method(method)\n\u001b[1;32m--> 367\u001b[0m \u001b[38;5;28mself\u001b[39m\u001b[38;5;241m.\u001b[39mprepare_url(url, params)\n\u001b[0;32m    368\u001b[0m \u001b[38;5;28mself\u001b[39m\u001b[38;5;241m.\u001b[39mprepare_headers(headers)\n\u001b[0;32m    369\u001b[0m \u001b[38;5;28mself\u001b[39m\u001b[38;5;241m.\u001b[39mprepare_cookies(cookies)\n",
      "File \u001b[1;32m~\\anaconda3\\Lib\\site-packages\\requests\\models.py:438\u001b[0m, in \u001b[0;36mPreparedRequest.prepare_url\u001b[1;34m(self, url, params)\u001b[0m\n\u001b[0;32m    435\u001b[0m     \u001b[38;5;28;01mraise\u001b[39;00m InvalidURL(\u001b[38;5;241m*\u001b[39me\u001b[38;5;241m.\u001b[39margs)\n\u001b[0;32m    437\u001b[0m \u001b[38;5;28;01mif\u001b[39;00m \u001b[38;5;129;01mnot\u001b[39;00m scheme:\n\u001b[1;32m--> 438\u001b[0m     \u001b[38;5;28;01mraise\u001b[39;00m MissingSchema(\n\u001b[0;32m    439\u001b[0m         \u001b[38;5;124mf\u001b[39m\u001b[38;5;124m\"\u001b[39m\u001b[38;5;124mInvalid URL \u001b[39m\u001b[38;5;132;01m{\u001b[39;00murl\u001b[38;5;132;01m!r}\u001b[39;00m\u001b[38;5;124m: No scheme supplied. \u001b[39m\u001b[38;5;124m\"\u001b[39m\n\u001b[0;32m    440\u001b[0m         \u001b[38;5;124mf\u001b[39m\u001b[38;5;124m\"\u001b[39m\u001b[38;5;124mPerhaps you meant https://\u001b[39m\u001b[38;5;132;01m{\u001b[39;00murl\u001b[38;5;132;01m}\u001b[39;00m\u001b[38;5;124m?\u001b[39m\u001b[38;5;124m\"\u001b[39m\n\u001b[0;32m    441\u001b[0m     )\n\u001b[0;32m    443\u001b[0m \u001b[38;5;28;01mif\u001b[39;00m \u001b[38;5;129;01mnot\u001b[39;00m host:\n\u001b[0;32m    444\u001b[0m     \u001b[38;5;28;01mraise\u001b[39;00m InvalidURL(\u001b[38;5;124mf\u001b[39m\u001b[38;5;124m\"\u001b[39m\u001b[38;5;124mInvalid URL \u001b[39m\u001b[38;5;132;01m{\u001b[39;00murl\u001b[38;5;132;01m!r}\u001b[39;00m\u001b[38;5;124m: No host supplied\u001b[39m\u001b[38;5;124m\"\u001b[39m)\n",
      "\u001b[1;31mMissingSchema\u001b[0m: Invalid URL 'None/visits?begin=2023-03-01&end=2023-09-01': No scheme supplied. Perhaps you meant https://None/visits?begin=2023-03-01&end=2023-09-01?"
     ]
    }
   ],
   "source": [
    "# получаем данные визитов и регистраций по API\n",
    "visits = requests.get(f'{API_URL}/visits?begin=2023-03-01&end=2023-09-01')\n",
    "\n",
    "visits_json = visits.json()\n",
    " \n",
    "regs = requests.get(f'{API_URL}/registrations?begin=2023-03-01&end=2023-09-01')\n",
    "regs_json = regs.json()"
   ]
  },
  {
   "cell_type": "code",
   "execution_count": null,
   "id": "e6fbe971-56f8-4051-bddf-6fac94206a10",
   "metadata": {},
   "outputs": [],
   "source": [
    "# преобразовываем в таблицы\n",
    "df_vis = pd.DataFrame(visits_json)\n",
    "df_regs = pd.DataFrame(regs_json)"
   ]
  },
  {
   "cell_type": "code",
   "execution_count": null,
   "id": "c94fa6b7-9626-4878-8d3a-910b18a010f5",
   "metadata": {},
   "outputs": [],
   "source": [
    "# избавляемся от времени в колонках 'datetime'\n",
    "df_vis['date_group'] = pd.to_datetime(df_vis['datetime'])\n",
    "df_vis['date_group'] = df_vis['date_group'].dt.date\n",
    "\n",
    "df_regs['date_group'] = pd.to_datetime(df_regs['datetime'])\n",
    "df_regs['date_group'] = df_regs['date_group'].dt.date"
   ]
  },
  {
   "cell_type": "code",
   "execution_count": null,
   "id": "f9560d5e-0e76-4fd0-8a92-2f19e3c414f9",
   "metadata": {},
   "outputs": [],
   "source": [
    "# удаляем ботов в визитах\n",
    "df_vis = df_vis[~df_vis['user_agent'].str.contains('bot')]"
   ]
  },
  {
   "cell_type": "code",
   "execution_count": null,
   "id": "968dd276-814a-4531-946b-062a91a61e59",
   "metadata": {},
   "outputs": [],
   "source": [
    "# берем последний визит,группируем и считаем таблицу с визитами\n",
    "visits_clean = df_vis.loc[df_vis.groupby('visit_id')['datetime'].idxmax()]\n",
    "visits = visits_clean.groupby(['date_group', 'platform'])['visit_id'].agg('count')"
   ]
  },
  {
   "cell_type": "code",
   "execution_count": null,
   "id": "1c9b42d9-bb18-4d7d-ae44-41861aa0773a",
   "metadata": {},
   "outputs": [],
   "source": [
    "# группируем и считаем таблицу с регистрациями\n",
    "regs_itog = df_regs.groupby(['date_group', 'platform'])['user_id'].agg('count')"
   ]
  },
  {
   "cell_type": "code",
   "execution_count": null,
   "id": "ec0838ae-f49a-4746-954e-42bfcec7d000",
   "metadata": {},
   "outputs": [],
   "source": [
    "# объединяем визиты и регистрации\n",
    "merged_df = pd.merge(visits, regs_itog, left_index=True, right_index=True, how='outer')"
   ]
  },
  {
   "cell_type": "code",
   "execution_count": null,
   "id": "10c23aa2-c89a-452f-afd2-74fbf2c0eea8",
   "metadata": {},
   "outputs": [],
   "source": [
    "# переименовываем колонки\n",
    "merged_df = merged_df.rename(columns={'visit_id': 'visits', 'user_id': 'registrations'})"
   ]
  },
  {
   "cell_type": "code",
   "execution_count": null,
   "id": "0d0603f7-fb2e-44f7-af81-df26732c5b56",
   "metadata": {},
   "outputs": [],
   "source": [
    "# считаем конверсию\n",
    "merged_df['conversion'] = merged_df['registrations']*100 / merged_df['visits']\n",
    "merged_df = merged_df.reset_index()\n",
    "merged_df"
   ]
  },
  {
   "cell_type": "code",
   "execution_count": null,
   "id": "43cb71b8-1e2a-4b07-9816-609554a5528d",
   "metadata": {},
   "outputs": [],
   "source": [
    "# сохраняем итоги\n",
    "merged_df.to_json('conversion.json')"
   ]
  },
  {
   "cell_type": "markdown",
   "id": "1c699edc-1b9e-4beb-8994-9ee4ae568732",
   "metadata": {},
   "source": [
    "**Шаг 4**"
   ]
  },
  {
   "cell_type": "markdown",
   "id": "92b96ab3-ec60-4d12-8654-5534f3b504e9",
   "metadata": {},
   "source": [
    "Задачи:\n",
    "1. Прочитать файл с данными о рекламных кампаниях.\n",
    "2. Присоединить таблицу с рекламой к данным по регистрациям и визитам."
   ]
  },
  {
   "cell_type": "code",
   "execution_count": null,
   "id": "5699a1ef-0893-4a3c-940e-760c9d6cd0cb",
   "metadata": {},
   "outputs": [],
   "source": [
    "# читаем таблицу с рекламой, избавляемся от времени\n",
    "ads_df = pd.read_csv('ads.csv')\n",
    "ads_df['date'] = pd.to_datetime(ads_df['date'])\n",
    "ads_df['date'] = ads_df['date'].dt.date\n",
    "ads_df.head()"
   ]
  },
  {
   "cell_type": "code",
   "execution_count": null,
   "id": "2dc13b69-c18c-4cdd-a45e-853eb8e5e987",
   "metadata": {},
   "outputs": [],
   "source": [
    "# соединяем таблицу конверсий и данные по рекламе\n",
    "data = pd.merge(merged_df, ads_df, left_on='date_group', right_on='date', how='inner')\n",
    "# Заполним пустые значения 0 для cost и none для utm_campaign\n",
    "data['cost'].fillna(0)\n",
    "data['utm_campaign'].fillna('None')\n",
    "# выбираем необходимые столбцы\n",
    "data = data[['date_group', 'visits', 'registrations', 'cost', 'utm_campaign']]\n",
    "data"
   ]
  },
  {
   "cell_type": "code",
   "execution_count": null,
   "id": "635ebe24-8eb2-4352-99c7-bcb9f987f63a",
   "metadata": {},
   "outputs": [],
   "source": [
    "data.to_json('ads.json')"
   ]
  },
  {
   "cell_type": "markdown",
   "id": "f8415fca-c930-4305-bbc5-fa65e84d36ce",
   "metadata": {},
   "source": [
    "**Шаг 5**"
   ]
  },
  {
   "cell_type": "markdown",
   "id": "23e86cd1-ca97-412e-8a29-402cc9169520",
   "metadata": {},
   "source": [
    "Задачи: построить следующие графики в формате PNG:\n",
    "1. Итоговые визиты\n",
    "2. Итоговые визиты с разбивкой по платформам: web, android, ios\n",
    "3. Итоговые регистрации\n",
    "4. Итоговые регистрации с разбивкой по платформе: web, android, ios\n",
    "5. Конверсия по каждой платформе\n",
    "6. Средняя конверсия\n",
    "7. Стоимости реклам\n",
    "8. Визиты за весь период с цветовым выделением рекламной кампании\n",
    "9. Регистрации за весь период с цветовым выделением рекламной кампании"
   ]
  },
  {
   "cell_type": "code",
   "execution_count": null,
   "id": "33955c18-43f3-460a-9fd2-f323f288ce38",
   "metadata": {},
   "outputs": [],
   "source": [
    "# Создание директории для графиков\n",
    "if not os.path.exists('charts'):\n",
    "    os.makedirs('./charts')"
   ]
  },
  {
   "cell_type": "code",
   "execution_count": null,
   "id": "e08e3325-f2b9-4bbf-8215-6bd745c359c9",
   "metadata": {},
   "outputs": [],
   "source": [
    "# итоговые визиты\n",
    "plt.figure(figsize=(14, 7))\n",
    "bars = plt.bar(merged_df['date_group'], merged_df['visits'], color='skyblue')\n",
    "plt.xlabel('date_group')\n",
    "plt.ylabel('visits')\n",
    "plt.title('Total Visits')\n",
    "plt.xticks(rotation=45)\n",
    "plt.grid(axis='y')\n",
    "plt.axhline(data['visits'].mean(),  color='black', linestyle='--', linewidth=0.5)\n",
    "plt.tight_layout()\n",
    "plt.savefig('charts/total visits.png')"
   ]
  },
  {
   "cell_type": "code",
   "execution_count": null,
   "id": "1431057c-6c6a-4d1f-9809-a3091e852cf8",
   "metadata": {},
   "outputs": [],
   "source": [
    "# итоговые визиты с разбивкой по платформам\n",
    "def total_visits_pltfm_chart(df):\n",
    "    fig, ax = plt.subplots(figsize=(14,7))\n",
    "    df = merged_df.pivot_table(index='date_group', columns='platform', values='visits')\n",
    "    df.plot(kind='bar', stacked=True, ax=ax)\n",
    "    plt.title('Visits by Platform (Staked)', fontsize=16)\n",
    "    plt.xlabel('Date_group',fontsize=14)\n",
    "    plt.ylabel('Visits',fontsize=14)\n",
    "    plt.legend(loc='upper right')\n",
    "    plt.xticks(rotation=45)\n",
    "    plt.grid(axis='y')\n",
    "    plt.tight_layout()\n",
    "    plt.savefig('charts/visits by platforms.png')\n",
    "    plt.show()\n",
    "\n",
    "total_visits_pltfm_chart(data)"
   ]
  },
  {
   "cell_type": "code",
   "execution_count": null,
   "id": "7d05f881-e124-489f-92a2-08be39e21d30",
   "metadata": {},
   "outputs": [],
   "source": [
    "# итоговые регистрации\n",
    "plt.figure(figsize=(14, 7))\n",
    "bars = plt.bar(merged_df['date_group'], merged_df['registrations'], color='skyblue')\n",
    "plt.xlabel('date_group')\n",
    "plt.ylabel('Registrations')\n",
    "plt.title('Total Weekly Registrations')\n",
    "plt.xticks(rotation=45)\n",
    "plt.grid(axis='y')\n",
    "plt.axhline(data['registrations'].mean(),  color='black', linestyle='--', linewidth=0.5)\n",
    "plt.tight_layout()\n",
    "plt.savefig('charts/total registrations.png')"
   ]
  },
  {
   "cell_type": "code",
   "execution_count": null,
   "id": "de156d88-91fa-4f63-aa61-c88997f39c66",
   "metadata": {},
   "outputs": [],
   "source": [
    "# итоговые регистрации с разбивкой по платформам\n",
    "def total_visits_pltfm_chart(df):\n",
    "    fig, ax = plt.subplots(figsize=(14,7))\n",
    "    df = merged_df.pivot_table(index='date_group', columns='platform', values='registrations')\n",
    "    df.plot(kind='bar', stacked=True, ax=ax)\n",
    "    plt.title('Weekly Registrations by Platform (Staked)', fontsize=16)\n",
    "    plt.xlabel('Date_group',fontsize=14)\n",
    "    plt.ylabel('Registrations',fontsize=14)\n",
    "    plt.legend(loc='upper right')\n",
    "    plt.xticks(rotation=45)\n",
    "    plt.grid(axis='y')\n",
    "    plt.tight_layout()\n",
    "    plt.savefig('charts/regs by platforms.png')\n",
    "    plt.show()\n",
    "\n",
    "total_visits_pltfm_chart(data)"
   ]
  },
  {
   "cell_type": "code",
   "execution_count": null,
   "id": "35f93c2c-f296-4bb8-8c28-b6c062d4a642",
   "metadata": {},
   "outputs": [],
   "source": [
    "# средняя конверсия\n",
    "conversion_df = merged_df.groupby(['date_group']).agg({'visits': 'sum', 'registrations': 'sum'})\n",
    "conversion_df['conversion'] = round(conversion_df['registrations'] / conversion_df['visits'] * 100, 2)\n",
    "conversion_df = conversion_df.reset_index()\n",
    "\n",
    "x = conversion_df['date_group']\n",
    "y = conversion_df['conversion']\n",
    "\n",
    "fig, ax = plt.subplots(figsize=(20, 10))\n",
    "\n",
    "conversion_plot = ax.plot(x, y, marker='o')\n",
    "\n",
    "for x, y in zip(x, y):\n",
    "\n",
    "    label = '{:.2f}%'.format(y)\n",
    "\n",
    "    ax.annotate(label, \n",
    "                 (x, y),\n",
    "                 textcoords='offset points',\n",
    "                 xytext=(0,10),\n",
    "                 ha='center')\n",
    "\n",
    "ax.set_title('Overall conversion')\n",
    "ax.set_xlabel('date')\n",
    "ax.set_ylabel('conversion')\n",
    "ax.margins(x=0)\n",
    "ax.grid(True, linestyle='dashed')\n",
    "plt.axhline(conversion_df['conversion'].mean(),  color='black', linestyle='--', linewidth=0.5)\n",
    "ax.set_axisbelow(True)\n",
    "plt.savefig('charts/conversion by campaign.png')\n",
    "plt.show()"
   ]
  },
  {
   "cell_type": "code",
   "execution_count": null,
   "id": "196d9ee2-2b20-4352-a683-8ebd27940b26",
   "metadata": {},
   "outputs": [],
   "source": [
    "# Конверсия по каждой платформе\n",
    "android_df = merged_df.loc[merged_df['platform'] == 'android'].groupby(['date_group']).agg({'visits': 'sum', 'registrations': 'sum'})\n",
    "android_df['conversion'] = round(android_df['registrations'] / android_df['visits'] * 100, 2)\n",
    "android_df = android_df.reset_index()\n",
    "\n",
    "ios_df = merged_df.loc[merged_df['platform'] == 'ios'].groupby(['date_group']).agg({'visits': 'sum', 'registrations': 'sum'})\n",
    "ios_df['conversion'] = round(ios_df['registrations'] / ios_df['visits'] * 100, 2)\n",
    "ios_df = ios_df.reset_index()\n",
    "\n",
    "web_df = merged_df.loc[merged_df['platform'] == 'web']\n",
    "web_df = web_df.groupby(['date_group']).agg({'visits': 'sum', 'registrations': 'sum'})\n",
    "web_df['conversion'] = round(web_df['registrations'] / web_df['visits'] * 100, 2)\n",
    "web_df = web_df.reset_index()\n",
    "\n",
    "x = android_df['date_group']\n",
    "y_1 = android_df['conversion']\n",
    "y_2 = ios_df['conversion']\n",
    "y_3 = web_df['conversion']\n",
    "\n",
    "fig, ax = plt.subplots(figsize=(20, 10), nrows=3, ncols=1, layout='tight')\n",
    "\n",
    "ax[0].set_title('Conversion android')\n",
    "ax[0].plot(x, y_1, marker='o')\n",
    "ax[0].set_xlabel('date')\n",
    "ax[0].set_ylabel('conversion')\n",
    "ax[0].grid(True)\n",
    "ax[0].margins(x=0)\n",
    "ax[0].grid(True, linestyle='dashed')\n",
    "ax[0].set_axisbelow(True)\n",
    "\n",
    "ax[1].set_title('Conversion ios')\n",
    "ax[1].plot(x, y_2, marker='o')\n",
    "ax[1].set_xlabel('date')\n",
    "ax[1].set_ylabel('conversion')\n",
    "ax[1].grid(True)\n",
    "ax[1].margins(x=0)\n",
    "ax[1].grid(True, linestyle='dashed')\n",
    "ax[1].set_axisbelow(True)\n",
    "\n",
    "ax[2].set_title('Conversion web')\n",
    "ax[2].plot(x, y_3, marker='o')\n",
    "ax[2].set_xlabel('date')\n",
    "ax[2].set_ylabel('conversion')\n",
    "ax[2].grid(True)\n",
    "ax[2].margins(x=0)\n",
    "ax[2].grid(True, linestyle='dashed')\n",
    "ax[2].set_axisbelow(True)\n",
    "\n",
    "plt.savefig('charts/conversion by pltf.png')\n",
    "plt.show()"
   ]
  },
  {
   "cell_type": "code",
   "execution_count": null,
   "id": "456b5e10-4813-4dc6-a64c-8edbbde81252",
   "metadata": {},
   "outputs": [],
   "source": [
    "# стоимость реклам\n",
    "x = data['date_group']\n",
    "y = data['cost']\n",
    "\n",
    "fig, ax = plt.subplots(figsize=(20, 10))\n",
    "\n",
    "total_cost_plot = ax.plot(x, y, marker='o')\n",
    "\n",
    "for x, y in zip(x, y):\n",
    "\n",
    "    label = '{:.2f}'.format(y)\n",
    "\n",
    "    ax.annotate(label, \n",
    "                 (x, y),\n",
    "                 textcoords='offset points',\n",
    "                 xytext=(0,10),\n",
    "                 ha='center')\n",
    "\n",
    "ax.set_title('Aggregated Ad Campaign Costs (by day)')\n",
    "ax.set_xlabel('Date')\n",
    "ax.set_ylabel('Cost(RUB)')\n",
    "ax.margins(x=0)\n",
    "plt.xticks(rotation = 45)\n",
    "ax.grid(True, linestyle='dashed')\n",
    "ax.set_axisbelow(True)\n",
    "plt.savefig('charts/agg by platforms.png')\n",
    "plt.show()"
   ]
  },
  {
   "cell_type": "code",
   "execution_count": null,
   "id": "9579facb-6808-4b4c-ab03-b99cc099a721",
   "metadata": {},
   "outputs": [],
   "source": [
    "# находим дату начала и дату окончания рекламной кампании\n",
    "charts = data.groupby('utm_campaign')['date_group'].agg(['min', 'max']).reset_index()\n",
    "charts.sort_values(by='min')"
   ]
  },
  {
   "cell_type": "code",
   "execution_count": null,
   "id": "dfd79721-8c27-4e25-8a32-1919c3181cdd",
   "metadata": {},
   "outputs": [],
   "source": [
    "# визиты и регистрации с выделением рекламных кампаний \n",
    "x = data['date_group']\n",
    "y_1 = data['visits']\n",
    "y_2 = data['registrations']\n",
    "\n",
    "color_palette = [\n",
    "    '#e12729',\n",
    "    '#f37324',\n",
    "    '#f8cc1b',\n",
    "    '#72b043',\n",
    "    '#007f4e'\n",
    "]\n",
    "\n",
    "count_1 = 0\n",
    "count_2 = 0\n",
    "\n",
    "fig, ax = plt.subplots(figsize=(20, 10), nrows=2, ncols=1, layout='tight')\n",
    "\n",
    "for id, row in charts.iterrows():\n",
    "    x0 = row['min']\n",
    "    x1 = row['max']\n",
    "    annotation_text = row['utm_campaign']\n",
    "    color=color_palette[count_1]\n",
    "    count_1 += 1\n",
    "    ax[0].axvspan(x0, x1, color=color, alpha = 0.3, label = annotation_text)\n",
    "\n",
    "ax[0].plot(x, y_1, marker='o', color='black')\n",
    "ax[0].set_title('Visits during marketing active days')\n",
    "ax[0].set_xlabel('date')\n",
    "ax[0].set_ylabel('Unique Visits')\n",
    "ax[0].margins(x=0)\n",
    "ax[0].grid(True, linestyle='dashed')\n",
    "ax[0].set_axisbelow(True)\n",
    "ax[0].legend(loc='lower left')\n",
    "ax[0].axhline(data['visits'].mean(),  color='black', linestyle='--', linewidth=0.5)\n",
    "\n",
    "for id, row in charts.iterrows():\n",
    "    x0 = row['min']\n",
    "    x1 = row['max']\n",
    "    annotation_text = row['utm_campaign']\n",
    "    color=color_palette[count_2]\n",
    "    count_2 += 1\n",
    "    ax[1].axvspan(x0, x1, color=color, alpha = 0.3, label = annotation_text)\n",
    "\n",
    "ax[1].plot(x, y_2, marker='o', color='green')\n",
    "ax[1].set_title('Registrations during marketing active days')\n",
    "ax[1].set_xlabel('date')\n",
    "ax[1].set_ylabel('Unique Users')\n",
    "ax[1].margins(x=0)\n",
    "ax[1].grid(True, linestyle='dashed')\n",
    "ax[1].set_axisbelow(True)\n",
    "ax[1].legend(loc='upper right')\n",
    "ax[1].axhline(data['registrations'].mean(),  color='black', linestyle='--', linewidth=0.5)\n",
    "\n",
    "plt.savefig('charts/vis regs by campaign.png')\n",
    "plt.show()"
   ]
  }
 ],
 "metadata": {
  "kernelspec": {
   "display_name": "Python [conda env:base] *",
   "language": "python",
   "name": "conda-base-py"
  },
  "language_info": {
   "codemirror_mode": {
    "name": "ipython",
    "version": 3
   },
   "file_extension": ".py",
   "mimetype": "text/x-python",
   "name": "python",
   "nbconvert_exporter": "python",
   "pygments_lexer": "ipython3",
   "version": "3.12.7"
  }
 },
 "nbformat": 4,
 "nbformat_minor": 5
}
