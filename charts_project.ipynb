{
 "cells": [
  {
   "cell_type": "markdown",
   "id": "e38df962-b18d-40f9-a2cc-b6e3c1c12cf8",
   "metadata": {},
   "source": [
    "**Проект 3 \"Дашборд конверсий\"**"
   ]
  },
  {
   "cell_type": "markdown",
   "id": "591d6262-840a-4d72-be62-340493f61d7b",
   "metadata": {},
   "source": [
    "**Шаг 1-3**"
   ]
  },
  {
   "cell_type": "markdown",
   "id": "10344a83-97e4-4ff0-8c2a-726e82fead33",
   "metadata": {},
   "source": [
    "Задачи:\n",
    "1. Сделать запросы по API и получить данные по визитам и регистрациям.\n",
    "2. Взять последний визит у посетителя.\n",
    "3. Избавиться от ботов в таблице с визитами.\n",
    "4. Объединить таблицы визитов и регистраций."
   ]
  },
  {
   "cell_type": "code",
   "execution_count": null,
   "id": "43256a68-e09a-47ed-84eb-aa94c24a2f08",
   "metadata": {},
   "outputs": [],
   "source": [
    "# импортируем библиотеки\n",
    "import os\n",
    "from dotenv import load_dotenv\n",
    "import requests\n",
    "import pandas as pd\n",
    "import seaborn as sns\n",
    "import matplotlib as mpl\n",
    "import matplotlib.pyplot as plt"
   ]
  },
  {
   "cell_type": "code",
   "execution_count": null,
   "id": "76022d84-1408-4f06-aadc-f70610d7978b",
   "metadata": {},
   "outputs": [],
   "source": [
    "# Загрузка переменных из окружения\n",
    "load_dotenv()\n",
    "\n",
    "DATE_BEGIN = os.getenv('DATE_BEGIN')\n",
    "DATE_END = os.getenv('DATE_END')\n",
    "API_URL = os.getenv('API_URL')"
   ]
  },
  {
   "cell_type": "code",
   "execution_count": null,
   "id": "eef57644-9534-4384-a7e2-f68d1bae1775",
   "metadata": {},
   "outputs": [],
   "source": [
    "# получаем данные визитов и регистраций по API\n",
    "visits = requests.get('https://data-charts-api.hexlet.app/visits?begin=2023-03-01&end=2023-09-01')\n",
    "visits_json = visits.json()\n",
    "\n",
    "regs = requests.get('https://data-charts-api.hexlet.app/registrations?begin=2023-03-01&end=2023-09-01')\n",
    "regs_json = regs.json()"
   ]
  },
  {
   "cell_type": "code",
   "execution_count": null,
   "id": "e6fbe971-56f8-4051-bddf-6fac94206a10",
   "metadata": {},
   "outputs": [],
   "source": [
    "# преобразовываем в таблицы\n",
    "df_vis = pd.DataFrame(visits_json)\n",
    "df_regs = pd.DataFrame(regs_json)"
   ]
  },
  {
   "cell_type": "code",
   "execution_count": null,
   "id": "c94fa6b7-9626-4878-8d3a-910b18a010f5",
   "metadata": {},
   "outputs": [],
   "source": [
    "# избавляемся от времени в колонках 'datetime'\n",
    "df_vis['date_group'] = pd.to_datetime(df_vis['datetime'])\n",
    "df_vis['date_group'] = df_vis['date_group'].dt.date\n",
    "\n",
    "df_regs['date_group'] = pd.to_datetime(df_regs['datetime'])\n",
    "df_regs['date_group'] = df_regs['date_group'].dt.date"
   ]
  },
  {
   "cell_type": "code",
   "execution_count": null,
   "id": "f9560d5e-0e76-4fd0-8a92-2f19e3c414f9",
   "metadata": {},
   "outputs": [],
   "source": [
    "# удаляем ботов в визитах\n",
    "df_vis = df_vis[~df_vis['user_agent'].str.contains('bot')]"
   ]
  },
  {
   "cell_type": "code",
   "execution_count": null,
   "id": "968dd276-814a-4531-946b-062a91a61e59",
   "metadata": {},
   "outputs": [],
   "source": [
    "# берем последний визит,группируем и считаем таблицу с визитами\n",
    "visits_clean = df_vis.loc[df_vis.groupby('visit_id')['datetime'].idxmax()]\n",
    "visits = visits_clean.groupby(['date_group', 'platform'])['visit_id'].agg('count')"
   ]
  },
  {
   "cell_type": "code",
   "execution_count": null,
   "id": "1c9b42d9-bb18-4d7d-ae44-41861aa0773a",
   "metadata": {},
   "outputs": [],
   "source": [
    "# группируем и считаем таблицу с регистрациями\n",
    "regs_itog = df_regs.groupby(['date_group', 'platform'])['user_id'].agg('count')"
   ]
  },
  {
   "cell_type": "code",
   "execution_count": null,
   "id": "ec0838ae-f49a-4746-954e-42bfcec7d000",
   "metadata": {},
   "outputs": [],
   "source": [
    "# объединяем визиты и регистрации\n",
    "merged_df = pd.merge(visits, regs_itog, left_index=True, right_index=True, how='outer')"
   ]
  },
  {
   "cell_type": "code",
   "execution_count": null,
   "id": "10c23aa2-c89a-452f-afd2-74fbf2c0eea8",
   "metadata": {},
   "outputs": [],
   "source": [
    "# переименовываем колонки\n",
    "merged_df = merged_df.rename(columns={'visit_id': 'visits', 'user_id': 'registrations'})"
   ]
  },
  {
   "cell_type": "code",
   "execution_count": null,
   "id": "0d0603f7-fb2e-44f7-af81-df26732c5b56",
   "metadata": {},
   "outputs": [],
   "source": [
    "# считаем конверсию\n",
    "merged_df['conversion'] = round(merged_df['registrations']*100 / merged_df['visits'], 2)\n",
    "merged_df = merged_df.reset_index()\n",
    "merged_df"
   ]
  },
  {
   "cell_type": "code",
   "execution_count": 1,
   "id": "43cb71b8-1e2a-4b07-9816-609554a5528d",
   "metadata": {},
   "outputs": [
    {
     "ename": "NameError",
     "evalue": "name 'merged_df' is not defined",
     "output_type": "error",
     "traceback": [
      "\u001b[1;31m---------------------------------------------------------------------------\u001b[0m",
      "\u001b[1;31mNameError\u001b[0m                                 Traceback (most recent call last)",
      "Cell \u001b[1;32mIn[1], line 2\u001b[0m\n\u001b[0;32m      1\u001b[0m \u001b[38;5;66;03m# сохраняем итоги\u001b[39;00m\n\u001b[1;32m----> 2\u001b[0m merged_df\u001b[38;5;241m.\u001b[39mto_json(\u001b[38;5;124m'\u001b[39m\u001b[38;5;124mconversion.json\u001b[39m\u001b[38;5;124m'\u001b[39m)\n",
      "\u001b[1;31mNameError\u001b[0m: name 'merged_df' is not defined"
     ]
    }
   ],
   "source": [
    "# сохраняем итоги\n",
    "merged_df.to_json('conversion.json')"
   ]
  },
  {
   "cell_type": "markdown",
   "id": "1c699edc-1b9e-4beb-8994-9ee4ae568732",
   "metadata": {},
   "source": [
    "**Шаг 4**"
   ]
  },
  {
   "cell_type": "markdown",
   "id": "92b96ab3-ec60-4d12-8654-5534f3b504e9",
   "metadata": {},
   "source": [
    "Задачи:\n",
    "1. Прочитать файл с данными о рекламных кампаниях.\n",
    "2. Присоединить таблицу с рекламой к данным по регистрациям и визитам."
   ]
  },
  {
   "cell_type": "code",
   "execution_count": null,
   "id": "5699a1ef-0893-4a3c-940e-760c9d6cd0cb",
   "metadata": {},
   "outputs": [],
   "source": [
    "# читаем таблицу с рекламой, избавляемся от времени\n",
    "ads_df = pd.read_csv('ads.csv')\n",
    "ads_df['date'] = pd.to_datetime(ads_df['date'])\n",
    "ads_df['date'] = ads_df['date'].dt.date\n",
    "ads_df.head()"
   ]
  },
  {
   "cell_type": "code",
   "execution_count": null,
   "id": "2dc13b69-c18c-4cdd-a45e-853eb8e5e987",
   "metadata": {},
   "outputs": [],
   "source": [
    "# соединяем таблицу конверсий и данные по рекламе\n",
    "data = pd.merge(merged_df, ads_df, left_on='date_group', right_on='date', how='inner')\n",
    "# Заполним пустые значения 0 для cost и none для utm_campaign\n",
    "data['cost'].fillna(0)\n",
    "data['utm_campaign'].fillna('None')\n",
    "# выбираем необходимые столбцы\n",
    "data = data[['date_group', 'visits', 'registrations', 'cost', 'utm_campaign']]\n",
    "data"
   ]
  },
  {
   "cell_type": "code",
   "execution_count": null,
   "id": "635ebe24-8eb2-4352-99c7-bcb9f987f63a",
   "metadata": {},
   "outputs": [],
   "source": [
    "data.to_json('ads.json')"
   ]
  },
  {
   "cell_type": "markdown",
   "id": "f8415fca-c930-4305-bbc5-fa65e84d36ce",
   "metadata": {},
   "source": [
    "**Шаг 5**"
   ]
  },
  {
   "cell_type": "markdown",
   "id": "23e86cd1-ca97-412e-8a29-402cc9169520",
   "metadata": {},
   "source": [
    "Задачи: построить следующие графики в формате PNG:\n",
    "1. Итоговые визиты\n",
    "2. Итоговые визиты с разбивкой по платформам: web, android, ios\n",
    "3. Итоговые регистрации\n",
    "4. Итоговые регистрации с разбивкой по платформе: web, android, ios\n",
    "5. Конверсия по каждой платформе\n",
    "6. Средняя конверсия\n",
    "7. Стоимости реклам\n",
    "8. Визиты за весь период с цветовым выделением рекламной кампании\n",
    "9. Регистрации за весь период с цветовым выделением рекламной кампании"
   ]
  },
  {
   "cell_type": "code",
   "execution_count": null,
   "id": "33955c18-43f3-460a-9fd2-f323f288ce38",
   "metadata": {},
   "outputs": [],
   "source": [
    "# Создание директории для графиков\n",
    "if not os.path.exists('charts'):\n",
    "    os.makedirs('./charts')"
   ]
  },
  {
   "cell_type": "code",
   "execution_count": null,
   "id": "e08e3325-f2b9-4bbf-8215-6bd745c359c9",
   "metadata": {},
   "outputs": [],
   "source": [
    "# итоговые визиты\n",
    "plt.figure(figsize=(14, 7))\n",
    "bars = plt.bar(merged_df['date_group'], merged_df['visits'], color='skyblue')\n",
    "plt.xlabel('date_group')\n",
    "plt.ylabel('visits')\n",
    "plt.title('Total Visits')\n",
    "plt.xticks(rotation=45)\n",
    "plt.grid(axis='y')\n",
    "plt.axhline(data['visits'].mean(),  color='black', linestyle='--', linewidth=0.5)\n",
    "plt.tight_layout()\n",
    "plt.savefig('charts/total visits.png')"
   ]
  },
  {
   "cell_type": "code",
   "execution_count": null,
   "id": "1431057c-6c6a-4d1f-9809-a3091e852cf8",
   "metadata": {},
   "outputs": [],
   "source": [
    "# итоговые визиты с разбивкой по платформам\n",
    "def total_visits_pltfm_chart(df):\n",
    "    fig, ax = plt.subplots(figsize=(14,7))\n",
    "    df = merged_df.pivot_table(index='date_group', columns='platform', values='visits')\n",
    "    df.plot(kind='bar', stacked=True, ax=ax)\n",
    "    plt.title('Visits by Platform (Staked)', fontsize=16)\n",
    "    plt.xlabel('Date_group',fontsize=14)\n",
    "    plt.ylabel('Visits',fontsize=14)\n",
    "    plt.legend(loc='upper right')\n",
    "    plt.xticks(rotation=45)\n",
    "    plt.grid(axis='y')\n",
    "    plt.tight_layout()\n",
    "    plt.savefig('charts/visits by platforms.png')\n",
    "    plt.show()\n",
    "\n",
    "total_visits_pltfm_chart(data)"
   ]
  },
  {
   "cell_type": "code",
   "execution_count": null,
   "id": "7d05f881-e124-489f-92a2-08be39e21d30",
   "metadata": {},
   "outputs": [],
   "source": [
    "# итоговые регистрации\n",
    "plt.figure(figsize=(14, 7))\n",
    "bars = plt.bar(merged_df['date_group'], merged_df['registrations'], color='skyblue')\n",
    "plt.xlabel('date_group')\n",
    "plt.ylabel('Registrations')\n",
    "plt.title('Total Weekly Registrations')\n",
    "plt.xticks(rotation=45)\n",
    "plt.grid(axis='y')\n",
    "plt.axhline(data['registrations'].mean(),  color='black', linestyle='--', linewidth=0.5)\n",
    "plt.tight_layout()\n",
    "plt.savefig('charts/total registrations.png')"
   ]
  },
  {
   "cell_type": "code",
   "execution_count": null,
   "id": "de156d88-91fa-4f63-aa61-c88997f39c66",
   "metadata": {},
   "outputs": [],
   "source": [
    "# итоговые регистрации с разбивкой по платформам\n",
    "def total_visits_pltfm_chart(df):\n",
    "    fig, ax = plt.subplots(figsize=(14,7))\n",
    "    df = merged_df.pivot_table(index='date_group', columns='platform', values='registrations')\n",
    "    df.plot(kind='bar', stacked=True, ax=ax)\n",
    "    plt.title('Weekly Registrations by Platform (Staked)', fontsize=16)\n",
    "    plt.xlabel('Date_group',fontsize=14)\n",
    "    plt.ylabel('Registrations',fontsize=14)\n",
    "    plt.legend(loc='upper right')\n",
    "    plt.xticks(rotation=45)\n",
    "    plt.grid(axis='y')\n",
    "    plt.tight_layout()\n",
    "    plt.savefig('charts/regs by platforms.png')\n",
    "    plt.show()\n",
    "\n",
    "total_visits_pltfm_chart(data)"
   ]
  },
  {
   "cell_type": "code",
   "execution_count": null,
   "id": "35f93c2c-f296-4bb8-8c28-b6c062d4a642",
   "metadata": {},
   "outputs": [],
   "source": [
    "# средняя конверсия\n",
    "conversion_df = merged_df.groupby(['date_group']).agg({'visits': 'sum', 'registrations': 'sum'})\n",
    "conversion_df['conversion'] = round(conversion_df['registrations'] / conversion_df['visits'] * 100, 2)\n",
    "conversion_df = conversion_df.reset_index()\n",
    "\n",
    "x = conversion_df['date_group']\n",
    "y = conversion_df['conversion']\n",
    "\n",
    "fig, ax = plt.subplots(figsize=(20, 10))\n",
    "\n",
    "conversion_plot = ax.plot(x, y, marker='o')\n",
    "\n",
    "for x, y in zip(x, y):\n",
    "\n",
    "    label = '{:.2f}%'.format(y)\n",
    "\n",
    "    ax.annotate(label, \n",
    "                 (x, y),\n",
    "                 textcoords='offset points',\n",
    "                 xytext=(0,10),\n",
    "                 ha='center')\n",
    "\n",
    "ax.set_title('Overall conversion')\n",
    "ax.set_xlabel('date')\n",
    "ax.set_ylabel('conversion')\n",
    "ax.margins(x=0)\n",
    "ax.grid(True, linestyle='dashed')\n",
    "plt.axhline(conversion_df['conversion'].mean(),  color='black', linestyle='--', linewidth=0.5)\n",
    "ax.set_axisbelow(True)\n",
    "plt.savefig('charts/conversion by campaign.png')\n",
    "plt.show()"
   ]
  },
  {
   "cell_type": "code",
   "execution_count": null,
   "id": "196d9ee2-2b20-4352-a683-8ebd27940b26",
   "metadata": {},
   "outputs": [],
   "source": [
    "# Конверсия по каждой платформе\n",
    "android_df = merged_df.loc[merged_df['platform'] == 'android'].groupby(['date_group']).agg({'visits': 'sum', 'registrations': 'sum'})\n",
    "android_df['conversion'] = round(android_df['registrations'] / android_df['visits'] * 100, 2)\n",
    "android_df = android_df.reset_index()\n",
    "\n",
    "ios_df = merged_df.loc[merged_df['platform'] == 'ios'].groupby(['date_group']).agg({'visits': 'sum', 'registrations': 'sum'})\n",
    "ios_df['conversion'] = round(ios_df['registrations'] / ios_df['visits'] * 100, 2)\n",
    "ios_df = ios_df.reset_index()\n",
    "\n",
    "web_df = merged_df.loc[merged_df['platform'] == 'web']\n",
    "web_df = web_df.groupby(['date_group']).agg({'visits': 'sum', 'registrations': 'sum'})\n",
    "web_df['conversion'] = round(web_df['registrations'] / web_df['visits'] * 100, 2)\n",
    "web_df = web_df.reset_index()\n",
    "\n",
    "x = android_df['date_group']\n",
    "y_1 = android_df['conversion']\n",
    "y_2 = ios_df['conversion']\n",
    "y_3 = web_df['conversion']\n",
    "\n",
    "fig, ax = plt.subplots(figsize=(20, 10), nrows=3, ncols=1, layout='tight')\n",
    "\n",
    "ax[0].set_title('Conversion android')\n",
    "ax[0].plot(x, y_1, marker='o')\n",
    "ax[0].set_xlabel('date')\n",
    "ax[0].set_ylabel('conversion')\n",
    "ax[0].grid(True)\n",
    "ax[0].margins(x=0)\n",
    "ax[0].grid(True, linestyle='dashed')\n",
    "ax[0].set_axisbelow(True)\n",
    "\n",
    "ax[1].set_title('Conversion ios')\n",
    "ax[1].plot(x, y_2, marker='o')\n",
    "ax[1].set_xlabel('date')\n",
    "ax[1].set_ylabel('conversion')\n",
    "ax[1].grid(True)\n",
    "ax[1].margins(x=0)\n",
    "ax[1].grid(True, linestyle='dashed')\n",
    "ax[1].set_axisbelow(True)\n",
    "\n",
    "ax[2].set_title('Conversion web')\n",
    "ax[2].plot(x, y_3, marker='o')\n",
    "ax[2].set_xlabel('date')\n",
    "ax[2].set_ylabel('conversion')\n",
    "ax[2].grid(True)\n",
    "ax[2].margins(x=0)\n",
    "ax[2].grid(True, linestyle='dashed')\n",
    "ax[2].set_axisbelow(True)\n",
    "\n",
    "plt.savefig('charts/conversion by pltf.png')\n",
    "plt.show()"
   ]
  },
  {
   "cell_type": "code",
   "execution_count": null,
   "id": "456b5e10-4813-4dc6-a64c-8edbbde81252",
   "metadata": {},
   "outputs": [],
   "source": [
    "# стоимость реклам\n",
    "x = data['date_group']\n",
    "y = data['cost']\n",
    "\n",
    "fig, ax = plt.subplots(figsize=(20, 10))\n",
    "\n",
    "total_cost_plot = ax.plot(x, y, marker='o')\n",
    "\n",
    "for x, y in zip(x, y):\n",
    "\n",
    "    label = '{:.2f}'.format(y)\n",
    "\n",
    "    ax.annotate(label, \n",
    "                 (x, y),\n",
    "                 textcoords='offset points',\n",
    "                 xytext=(0,10),\n",
    "                 ha='center')\n",
    "\n",
    "ax.set_title('Aggregated Ad Campaign Costs (by day)')\n",
    "ax.set_xlabel('Date')\n",
    "ax.set_ylabel('Cost(RUB)')\n",
    "ax.margins(x=0)\n",
    "plt.xticks(rotation = 45)\n",
    "ax.grid(True, linestyle='dashed')\n",
    "ax.set_axisbelow(True)\n",
    "plt.savefig('charts/agg by platforms.png')\n",
    "plt.show()"
   ]
  },
  {
   "cell_type": "code",
   "execution_count": null,
   "id": "9579facb-6808-4b4c-ab03-b99cc099a721",
   "metadata": {},
   "outputs": [],
   "source": [
    "# находим дату начала и дату окончания рекламной кампании\n",
    "charts = data.groupby('utm_campaign')['date_group'].agg(['min', 'max']).reset_index()\n",
    "charts.sort_values(by='min')"
   ]
  },
  {
   "cell_type": "code",
   "execution_count": null,
   "id": "dfd79721-8c27-4e25-8a32-1919c3181cdd",
   "metadata": {},
   "outputs": [],
   "source": [
    "# визиты и регистрации с выделением рекламных кампаний \n",
    "x = data['date_group']\n",
    "y_1 = data['visits']\n",
    "y_2 = data['registrations']\n",
    "\n",
    "color_palette = [\n",
    "    '#e12729',\n",
    "    '#f37324',\n",
    "    '#f8cc1b',\n",
    "    '#72b043',\n",
    "    '#007f4e'\n",
    "]\n",
    "\n",
    "count_1 = 0\n",
    "count_2 = 0\n",
    "\n",
    "fig, ax = plt.subplots(figsize=(20, 10), nrows=2, ncols=1, layout='tight')\n",
    "\n",
    "for id, row in charts.iterrows():\n",
    "    x0 = row['min']\n",
    "    x1 = row['max']\n",
    "    annotation_text = row['utm_campaign']\n",
    "    color=color_palette[count_1]\n",
    "    count_1 += 1\n",
    "    ax[0].axvspan(x0, x1, color=color, alpha = 0.3, label = annotation_text)\n",
    "\n",
    "ax[0].plot(x, y_1, marker='o', color='black')\n",
    "ax[0].set_title('Visits during marketing active days')\n",
    "ax[0].set_xlabel('date')\n",
    "ax[0].set_ylabel('Unique Visits')\n",
    "ax[0].margins(x=0)\n",
    "ax[0].grid(True, linestyle='dashed')\n",
    "ax[0].set_axisbelow(True)\n",
    "ax[0].legend(loc='lower left')\n",
    "ax[0].axhline(data['visits'].mean(),  color='black', linestyle='--', linewidth=0.5)\n",
    "\n",
    "for id, row in charts.iterrows():\n",
    "    x0 = row['min']\n",
    "    x1 = row['max']\n",
    "    annotation_text = row['utm_campaign']\n",
    "    color=color_palette[count_2]\n",
    "    count_2 += 1\n",
    "    ax[1].axvspan(x0, x1, color=color, alpha = 0.3, label = annotation_text)\n",
    "\n",
    "ax[1].plot(x, y_2, marker='o', color='green')\n",
    "ax[1].set_title('Registrations during marketing active days')\n",
    "ax[1].set_xlabel('date')\n",
    "ax[1].set_ylabel('Unique Users')\n",
    "ax[1].margins(x=0)\n",
    "ax[1].grid(True, linestyle='dashed')\n",
    "ax[1].set_axisbelow(True)\n",
    "ax[1].legend(loc='upper right')\n",
    "ax[1].axhline(data['registrations'].mean(),  color='black', linestyle='--', linewidth=0.5)\n",
    "\n",
    "plt.savefig('charts/vis regs by campaign.png')\n",
    "plt.show()"
   ]
  }
 ],
 "metadata": {
  "kernelspec": {
   "display_name": "Python [conda env:base] *",
   "language": "python",
   "name": "conda-base-py"
  },
  "language_info": {
   "codemirror_mode": {
    "name": "ipython",
    "version": 3
   },
   "file_extension": ".py",
   "mimetype": "text/x-python",
   "name": "python",
   "nbconvert_exporter": "python",
   "pygments_lexer": "ipython3",
   "version": "3.12.7"
  }
 },
 "nbformat": 4,
 "nbformat_minor": 5
}
